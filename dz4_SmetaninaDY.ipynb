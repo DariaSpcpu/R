{
  "nbformat": 4,
  "nbformat_minor": 0,
  "metadata": {
    "colab": {
      "provenance": [],
      "authorship_tag": "ABX9TyNad5KfFGiWHTok97LVqZI7",
      "include_colab_link": true
    },
    "kernelspec": {
      "name": "ir",
      "display_name": "R"
    },
    "language_info": {
      "name": "R"
    }
  },
  "cells": [
    {
      "cell_type": "markdown",
      "metadata": {
        "id": "view-in-github",
        "colab_type": "text"
      },
      "source": [
        "<a href=\"https://colab.research.google.com/github/DariaSpcpu/R/blob/main/dz4_SmetaninaDY.ipynb\" target=\"_parent\"><img src=\"https://colab.research.google.com/assets/colab-badge.svg\" alt=\"Open In Colab\"/></a>"
      ]
    },
    {
      "cell_type": "markdown",
      "source": [
        "## Домашнее задание 4\n",
        "\n",
        "Тема: использование основных статистических тестов и поправок на множественные сравнения.\n",
        "\n",
        "Цель: разберем использование основных параметрических и непараметрических статистических тестов, научимся вводить поправки на множественные сравнения и поймем, чем они отличаются.\n",
        "\n"
      ],
      "metadata": {
        "id": "StzsdjOYvj6t"
      }
    },
    {
      "cell_type": "markdown",
      "source": [
        "### Задание 1 (2 балла)\n",
        "\n",
        "Рассмотрите следующую статистическую гипотезу.\n",
        "\n",
        "Проводят некоторое исследование пациентов с артериальной гипертензией. Предположим, что внедрение нового препарата в среднем лучше снижает их давление по сравнению со стандартной терапией.\n",
        "\n",
        "Задайте seed для воспроизводимости результатов (функция set.seed()). Задайте размер выборки sample_size <- 30. Задайте значение среднего артериального давления до приема нового препарата и после.\n",
        "\n"
      ],
      "metadata": {
        "id": "7H_vbIDgv3yo"
      }
    },
    {
      "cell_type": "markdown",
      "source": [
        "Затем:\n",
        "\n",
        "- Сформулируйте нулевую и альтернативную гипотезы.\n",
        "- Определите уровень значимости.\n",
        "- Выберите статистический тест для проверки гипотезы и аргументируйте свой выбор.\n",
        "- Определите наблюдаемое значение статистики, а также критическое значение статистики.\n",
        "- Оцените и прокомментируйте статистическую значимость.\n"
      ],
      "metadata": {
        "id": "ywCuhQUtwZKN"
      }
    },
    {
      "cell_type": "markdown",
      "source": [
        "Формулировка гипотез\n",
        "\n",
        "- Нулевая гипотеза (H0): Новый препарат не отличается по эффективности в снижении артериального давления от стандартной терапии. Это означает, что разница в средних артериальных давлениях до и после приема нового препарата равна 0.\n",
        "- Альтернативная гипотеза (H1): Новый препарат более эффективен в снижении артериального давления по сравнению со стандартной терапией, т.е. среднее артериальное давление после приема нового препарата ниже.\n",
        "\n",
        "Уровень значимости\n",
        "\n",
        "Уровень значимости (α) — это порог, по которому мы решаем, достаточно ли сильно наши данные противоречат нулевой гипотезе. Чаще всего используют α=0.05, что означает 5% риск ошибки первого рода (отвергнуть нулевую гипотезу, когда она верна).\n",
        "\n"
      ],
      "metadata": {
        "id": "2bqU_k5tJT8V"
      }
    },
    {
      "cell_type": "code",
      "source": [
        "# Устанавливаем seed для воспроизводимости результатов\n",
        "set.seed(40)\n",
        "\n",
        "# Задаем размер выборки\n",
        "sample_size <- 30\n",
        "\n",
        "# Задаем среднее артериальное давление до и стандартное отклонение\n",
        "mean_before <- 140  # предполагаемое среднее значение артериального давления до\n",
        "std_dev <- 10  # стандартное отклонение\n",
        "\n",
        "# Генерируем выборку давления до приема нового препарата\n",
        "pressure_before <- rnorm(sample_size, mean_before, std_dev)\n",
        "\n",
        "# Предполагаем, что препарат снижает давление в среднем на 5 единиц со стандартным отклонением 5\n",
        "effect <- -5  # среднее снижение давления\n",
        "effect_std_dev <- 5  # стандартное отклонение эффекта\n",
        "\n",
        "# Генерируем эффект от нового препарата и создаем выборку после приема препарата\n",
        "effect_samples <- rnorm(sample_size, effect, effect_std_dev)\n",
        "pressure_after <- pressure_before + effect_samples\n",
        "\n",
        "\n"
      ],
      "metadata": {
        "id": "h8rgzIwhEfgl"
      },
      "execution_count": 4,
      "outputs": []
    },
    {
      "cell_type": "markdown",
      "source": [
        "Перед проведением парного t-теста проверим выборки на нормальность распределения, поскольку t-тест предполагает, что разности между парами наблюдений распределены нормально. Это поможет убедиться, что использование параметрических методов, таких как t-тест, является обоснованным."
      ],
      "metadata": {
        "id": "KCV4UHfgIkkb"
      }
    },
    {
      "cell_type": "code",
      "source": [
        "# Вычисляем разности между парами наблюдений\n",
        "differences <- pressure_after - pressure_before\n",
        "\n",
        "# Проверка на нормальность с помощью теста Шапиро-Уилка\n",
        "shapiro_test <- shapiro.test(differences)\n",
        "\n",
        "# Выводим результаты теста Шапиро-Уилка\n",
        "print(shapiro_test)\n"
      ],
      "metadata": {
        "colab": {
          "base_uri": "https://localhost:8080/"
        },
        "id": "I8VZt14OH37t",
        "outputId": "aa9a5df6-5fa8-4d1b-91f6-d13d0cf7fce3"
      },
      "execution_count": 2,
      "outputs": [
        {
          "output_type": "stream",
          "name": "stdout",
          "text": [
            "\n",
            "\tShapiro-Wilk normality test\n",
            "\n",
            "data:  differences\n",
            "W = 0.97813, p-value = 0.774\n",
            "\n"
          ]
        }
      ]
    },
    {
      "cell_type": "markdown",
      "source": [
        "Результат теста Шапиро-Уилка с p-значением 0.774 указывает на то, что нет оснований отвергать нулевую гипотезу о нормальности распределения разностей между значениями артериального давления до и после приема препарата. Статистика W равна 0.97813, что также свидетельствует о том, что распределение разностей близко к нормальному.\n",
        "\n",
        "Таким образом, использование парного t-теста в данном случае является обоснованным, поскольку одно из основных предположений этого теста — нормальность распределения разностей между парами наблюдений — подтверждается.\n",
        "\n"
      ],
      "metadata": {
        "id": "3UI_WP9mIa74"
      }
    },
    {
      "cell_type": "code",
      "source": [
        "# Выполняем t-тест для зависимых выборок\n",
        "t_test_result <- t.test(pressure_before, pressure_after, paired = TRUE)\n",
        "\n",
        "# Выводим результаты t-теста\n",
        "print(t_test_result)"
      ],
      "metadata": {
        "colab": {
          "base_uri": "https://localhost:8080/"
        },
        "id": "gnKUFqHMIKQ8",
        "outputId": "a0d37edc-0ae9-44a9-b153-184d83ea5367"
      },
      "execution_count": 3,
      "outputs": [
        {
          "output_type": "stream",
          "name": "stdout",
          "text": [
            "\n",
            "\tPaired t-test\n",
            "\n",
            "data:  pressure_before and pressure_after\n",
            "t = 3.2982, df = 29, p-value = 0.002579\n",
            "alternative hypothesis: true mean difference is not equal to 0\n",
            "95 percent confidence interval:\n",
            " 1.129155 4.815343\n",
            "sample estimates:\n",
            "mean difference \n",
            "       2.972249 \n",
            "\n"
          ]
        }
      ]
    },
    {
      "cell_type": "markdown",
      "source": [
        "Полученные результаты парного t-теста указывают на следующее:\n",
        "\n",
        "- t-статистика:\n",
        "\n",
        "Значение t-статистики составляет 3.2982. Это значение показывает, насколько далеко (в стандартных отклонениях) наблюдаемое среднее различие отклоняется от нуля (или другого значения, указанного в нулевой гипотезе, если бы такое было).\n",
        "Степени свободы (df): Степени свободы для этого теста составляют 29, что соответствует размеру выборки минус один (30 - 1 = 29).\n",
        "- p-значение:\n",
        "\n",
        "p-значение равно 0.002579, что значительно меньше стандартного порога значимости 0.05. Это указывает на то, что различие между средними значениями давления до и после приема препарата статистически значимо.\n",
        "- Альтернативная гипотеза:\n",
        "\n",
        "Гипотеза теста заключается в том, что истинное среднее различие не равно нулю, что подтверждается результатами.\n",
        "- 95% доверительный интервал для разности средних:\n",
        "\n",
        "Доверительный интервал составляет от 1.129155 до 4.815343. Это означает, что с 95% вероятностью истинное среднее различие давлений до и после лежит в этом интервале. Доверительный интервал не включает ноль, что также указывает на статистическую значимость различий.\n",
        "\n",
        "- Оценка среднего различия:\n",
        "\n",
        "Среднее различие между давлениями до и после составляет 2.972249 единицы. Это означает, что в среднем давление снижается на эту величину после приема препарата.\n",
        "\n",
        "Выводы\n",
        "\n",
        "На основании полученных результатов можно сделать вывод, что новый препарат статистически значимо снижает артериальное давление у пациентов с артериальной гипертензией по сравнению со стандартной терапией. Это подтверждает альтернативную гипотезу и позволяет отвергнуть нулевую гипотезу о том, что препарат не оказывает значимого эффекта на снижение артериального давления.\n",
        "\n",
        "\n"
      ],
      "metadata": {
        "id": "08F-5WU6J06d"
      }
    },
    {
      "cell_type": "markdown",
      "source": [
        "### Задание 2 (2 балла)\n",
        "Рассмотрите следующую статистическую гипотезу.\n",
        "\n",
        "Существует некоторая связь между курением и развитием рака легких. Пусть у курящих людей вероятность заболеть раком легких составляет 0.8, а у некурящих — 0.2\n",
        "\n",
        "Рассмотрите два случая: для выборки sample_size1 <- 100 и выборки sample_size2 <- 30. Сгенерируйте данные по курению с помощью функции rep(), пусть отношение числа курящих к некурящим в каждой выборке составляет 1:1.\n",
        "\n",
        "Затем:\n",
        "\n",
        "- Сформулируйте нулевую и альтернативную гипотезы.\n",
        "- Определите уровень значимости.\n",
        "- Выберите статистический тест для проверки гипотезы и аргументируйте свой выбор.\n",
        "- Определите наблюдаемое значение статистики, а также критическое значение статистики.\n",
        "- Оцените и прокомментируйте статистическую значимость.\n"
      ],
      "metadata": {
        "id": "GZ1NjA8aQ3Kt"
      }
    },
    {
      "cell_type": "markdown",
      "source": [
        "1. Формулировка гипотез\n",
        "\n",
        "- Нулевая гипотеза (H0): Нет различия в вероятности развития рака легких между курящими и некурящими людьми. То есть различия, если они наблюдаются, случайны и не имеют статистической значимости.\n",
        "- Альтернативная гипотеза (H1): Существует статистически значимое различие в вероятности развития рака легких между курящими и некурящими.\n",
        "\n",
        "2. Уровень значимости\n",
        "\n",
        "Выберем уровень значимости α=0.05, который является стандартным выбором для большинства статистических тестов. Это означает, что мы готовы принять до 5% риск ошибочно отвергнуть нулевую гипотезу, когда она на самом деле верна.\n",
        "\n",
        "3. Выбор статистического теста\n",
        "\n",
        "Для анализа связи между курением и развитием рака легких мы можем использовать тест Хи-квадрат  для независимых выборок. Этот выбор обусловлен категориальной природой данных (курение / не курение) и интересом к сравнению частот в двух группах. Тест Хи-квадрат позволяет определить, есть ли статистически значимая разница между ожидаемыми и наблюдаемыми частотами случаев рака легких среди курящих и некурящих.\n"
      ],
      "metadata": {
        "id": "7c1x2H6hRSPv"
      }
    },
    {
      "cell_type": "markdown",
      "source": [
        "Тест Хи-квадрат проверяет нулевую гипотезу о том, что нет никакой ассоциации (связи) между двумя категориальными переменными (в вашем случае, курение и развитие рака легких). Для этого он сравнивает наблюдаемые частоты случаев в каждой категории с частотами, которые ожидались бы, если бы между переменными не было никакой связи.\n",
        "\n",
        "Важные моменты, которые следует учитывать при проведении теста Хи-квадрат:\n",
        "\n",
        "- Минимальное количество наблюдений:\n",
        "\n",
        "Рекомендуется, чтобы в каждой ячейке таблицы сопряженности было не менее 5 наблюдений. Если в некоторых ячейках меньше 5 наблюдений, может потребоваться использование точного теста Фишера.\n",
        "\n",
        "- Независимость наблюдений:\n",
        "\n",
        "Тест предполагает, что каждое наблюдение независимо от других, и каждый случай можно отнести только к одной ячейке таблицы.\n"
      ],
      "metadata": {
        "id": "621w_MnzSy7D"
      }
    },
    {
      "cell_type": "code",
      "source": [
        "# Установим seed для воспроизводимости результатов\n",
        "set.seed(42)\n",
        "\n",
        "# Задаем размеры выборок\n",
        "sample_size1 <- 100\n",
        "sample_size2 <- 30\n",
        "\n",
        "# Генерируем данные\n",
        "# Для выборки размером 100\n",
        "smokers1 <- rep(c(1, 0), each = sample_size1 / 2)\n",
        "cancer1 <- c(rbinom(sample_size1 / 2, 1, 0.8), rbinom(sample_size1 / 2, 1, 0.2))\n",
        "\n",
        "# Для выборки размером 30\n",
        "smokers2 <- rep(c(1, 0), each = sample_size2 / 2)\n",
        "cancer2 <- c(rbinom(sample_size2 / 2, 1, 0.8), rbinom(sample_size2 / 2, 1, 0.2))\n",
        "\n",
        "# Проведем тест Хи-квадрат для первой выборки\n",
        "table1 <- table(smokers1, cancer1)\n",
        "chisq.test(table1)\n",
        "\n",
        "# Проведем тест Хи-квадрат для второй выборки\n",
        "table2 <- table(smokers2, cancer2)\n",
        "chisq.test(table2)\n"
      ],
      "metadata": {
        "colab": {
          "base_uri": "https://localhost:8080/",
          "height": 196
        },
        "id": "2JnL-RR2SVpU",
        "outputId": "5b7016e4-3e15-46ec-a852-9a782a5d4a35"
      },
      "execution_count": 5,
      "outputs": [
        {
          "output_type": "display_data",
          "data": {
            "text/plain": [
              "\n",
              "\tPearson's Chi-squared test with Yates' continuity correction\n",
              "\n",
              "data:  table1\n",
              "X-squared = 29, df = 1, p-value = 7.236e-08\n"
            ]
          },
          "metadata": {}
        },
        {
          "output_type": "display_data",
          "data": {
            "text/plain": [
              "\n",
              "\tPearson's Chi-squared test with Yates' continuity correction\n",
              "\n",
              "data:  table2\n",
              "X-squared = 8.5333, df = 1, p-value = 0.003487\n"
            ]
          },
          "metadata": {}
        }
      ]
    },
    {
      "cell_type": "code",
      "source": [
        "# Уровень значимости 0.05 и одна степень свободы\n",
        "critical_value <- qchisq(0.95, df = 1)\n",
        "print(critical_value)\n"
      ],
      "metadata": {
        "colab": {
          "base_uri": "https://localhost:8080/"
        },
        "id": "Q4ExGuDmVbbf",
        "outputId": "4e7e5145-cc4f-41ba-f90d-3e2139912d07"
      },
      "execution_count": 7,
      "outputs": [
        {
          "output_type": "stream",
          "name": "stdout",
          "text": [
            "[1] 3.841459\n"
          ]
        }
      ]
    },
    {
      "cell_type": "markdown",
      "source": [
        "4. Определение наблюдаемого и критического значений статистики\n",
        "\n",
        "Наблюдаемое значение статистики (X-squared)\n",
        "\n",
        "Это значение, которое вычисляется в ходе статистического теста и отражает меру расхождения между наблюдаемыми и ожидаемыми частотами в категориальных данных. Для ваших тестов наблюдаемые значения статистики равны:\n",
        "\n",
        "- Для выборки размером 100: 29\n",
        "- Для выборки размером 30: 8.5333\n",
        "\n",
        "Критическое значение статистики\n",
        "\n",
        "Критическое значение статистики - это пороговое значение, которое используется для определения, следует ли отвергать нулевую гипотезу на основе наблюдаемого значения статистики. Критическое значение зависит от выбранного уровня значимости (α) и степеней свободы (df) теста.\n",
        "\n",
        "Для теста Хи-квадрат с одной степенью свободы (как в нашем случае, где сравниваются две группы) и уровнем значимости α=0.05 критическое значение составляет около 3.841.\n",
        "\n",
        "Оценка статистической значимости\n",
        "\n",
        "Сравнивая наблюдаемое значение статистики с критическим, можно сделать вывод о статистической значимости:\n",
        "\n",
        "Для обеих выборок наблюдаемое значение значительно превышает критическое значение 3.841, что указывает на статистически значимую связь между курением и развитием рака легких. Это означает, что нулевая гипотеза о том, что нет различия в вероятности развития рака легких между курящими и некурящими, может быть отвергнута.\n",
        "Таким образом, результаты обоих тестов подтверждают наличие статистически значимой ассоциации между курением и увеличенной вероятностью развития рака легких, что согласуется с общепризнанными научными данными о вреде курения.\n",
        "\n",
        "\n",
        "2 / 2\n",
        "\n",
        "\n",
        "\n",
        "\n",
        "\n"
      ],
      "metadata": {
        "id": "Xj5UMM50T_aA"
      }
    },
    {
      "cell_type": "markdown",
      "source": [
        "5. Оцените и прокомментируйте статистическую значимость.\n"
      ],
      "metadata": {
        "id": "JbPBj0cjYvK8"
      }
    },
    {
      "cell_type": "markdown",
      "source": [
        "Результаты теста Хи-квадрат показывают следующее:\n",
        "\n",
        "- Для выборки размером 100 (sample_size1 = 100):\n",
        "\n",
        "Хи-квадрат (X-squared): Значение статистики составляет 29.\n",
        "\n",
        "Степени свободы (df): 1.\n",
        "\n",
        "P-значение: Примерно 7.236e-08\n",
        "\n",
        "- Для выборки размером 30 (sample_size2 = 30):\n",
        "\n",
        "Хи-квадрат (X-squared): Значение статистики составляет 8.5333.\n",
        "\n",
        "Степени свободы (df): 1.\n",
        "\n",
        "P-значение: 0.003487.\n",
        "\n",
        "Интерпретация результатов:\n",
        "\n",
        "Оба теста показывают статистически значимые различия между курящими и некурящими в контексте развития рака легких, что позволяет отвергнуть нулевую гипотезу в обоих случаях.\n",
        "\n",
        "Для большей выборки (100 участников) значение p-значения значительно меньше установленного уровня значимости (α=0.05), что указывает на очень сильную статистическую связь между курением и развитием рака легких.\n",
        "\n",
        "Аналогично, для меньшей выборки (30 участников) p-значение также меньше 0.05, что подтверждает статистическую значимость связи между курением и раком легких, хотя степень уверенности в этом случае ниже, чем для большей выборки.\n",
        "\n",
        "Заключение:\n",
        "\n",
        "Результаты подтверждают предположение о том, что существует статистически значимая связь между курением и вероятностью развития рака легких. Это соответствует множеству эпидемиологических исследований, которые также идентифицируют курение как значительный фактор риска развития рака легких.\n"
      ],
      "metadata": {
        "id": "vBeSn1kaWQ4L"
      }
    },
    {
      "cell_type": "markdown",
      "source": [
        "### Задание 4 (4 балла)\n",
        "Рассмотрите следующую гипотезу.\n",
        "\n",
        "Проводится исследование, в котором исследуются три противоопухолевые препарата A, B плацебо (0) на трех группах мышей. В каждой из трех групп по 10 мышей.  Оценивается размер опухоли у мыши.\n",
        "\n",
        "Сгенерируйте датасет следующим образом:\n",
        "tumor <- tibble(\n",
        "  therapy = c(rep(\"0\", 10), rep(\"A\", 10), rep(\"B\", 10)),\n",
        "  value = c(rep(3213, 10), rep(2687, 10), rep(2423, 10))\n",
        ") %>%\n",
        "  mutate(therapy = factor(therapy, levels = c(\"0\", \"A\", \"B\")))\n",
        "  \n",
        "tumor$value <- tumor$value + rnorm(30, 0, 760)\n",
        "\n",
        "Постройте на одном графике три “ящика с усами” для наглядности.\n",
        "- проведите дисперсионный анализ, чтобы выяснить, есть ли разница между размером опухоли во всех группах. Прокомментируйте получившийся результат.\n",
        "\n",
        "- с помощью функции TukeyHSD() проведите попарные сравнения, используя критерий Тьюки.\n",
        "Прокомментируйте полученные результаты.\n"
      ],
      "metadata": {
        "id": "NSSOv3AiZLIr"
      }
    },
    {
      "cell_type": "markdown",
      "source": [
        "Для начала сгенерируем указанный датасет в R и построим графики \"ящика с усами\" для наглядности различий между группами. Затем проведем дисперсионный анализ (ANOVA) и попарные сравнения с использованием критерия Тьюки.\n",
        "\n",
        "Генерация датасета и построение графиков\n"
      ],
      "metadata": {
        "id": "qt2YCoVraCjt"
      }
    },
    {
      "cell_type": "code",
      "source": [
        "library(tidyverse)\n",
        "\n",
        "# Генерация данных\n",
        "tumor <- tibble(\n",
        "  therapy = c(rep(\"0\", 10), rep(\"A\", 10), rep(\"B\", 10)),\n",
        "  value = c(rep(3213, 10), rep(2687, 10), rep(2423, 10))\n",
        ") %>%\n",
        "  mutate(therapy = factor(therapy, levels = c(\"0\", \"A\", \"B\")))\n",
        "\n",
        "# Добавляем нормально распределенный шум\n",
        "set.seed(42)\n",
        "tumor$value <- tumor$value + rnorm(30, 0, 760)\n",
        "\n",
        "# Построение графиков \"ящика с усами\"\n",
        "ggplot(tumor, aes(x = therapy, y = value, fill = therapy)) +\n",
        "  geom_boxplot() +\n",
        "  theme_minimal() +\n",
        "  labs(title = \"Размер опухоли по группам терапии\", x = \"Группа терапии\", y = \"Размер опухоли\")\n"
      ],
      "metadata": {
        "colab": {
          "base_uri": "https://localhost:8080/",
          "height": 616
        },
        "id": "iDDX8MrUaHh-",
        "outputId": "9aa081c3-605a-453e-9005-41e989f17b7d"
      },
      "execution_count": 8,
      "outputs": [
        {
          "output_type": "stream",
          "name": "stderr",
          "text": [
            "── \u001b[1mAttaching core tidyverse packages\u001b[22m ──────────────────────── tidyverse 2.0.0 ──\n",
            "\u001b[32m✔\u001b[39m \u001b[34mdplyr    \u001b[39m 1.1.4     \u001b[32m✔\u001b[39m \u001b[34mreadr    \u001b[39m 2.1.5\n",
            "\u001b[32m✔\u001b[39m \u001b[34mforcats  \u001b[39m 1.0.0     \u001b[32m✔\u001b[39m \u001b[34mstringr  \u001b[39m 1.5.1\n",
            "\u001b[32m✔\u001b[39m \u001b[34mggplot2  \u001b[39m 3.4.4     \u001b[32m✔\u001b[39m \u001b[34mtibble   \u001b[39m 3.2.1\n",
            "\u001b[32m✔\u001b[39m \u001b[34mlubridate\u001b[39m 1.9.3     \u001b[32m✔\u001b[39m \u001b[34mtidyr    \u001b[39m 1.3.1\n",
            "\u001b[32m✔\u001b[39m \u001b[34mpurrr    \u001b[39m 1.0.2     \n",
            "── \u001b[1mConflicts\u001b[22m ────────────────────────────────────────── tidyverse_conflicts() ──\n",
            "\u001b[31m✖\u001b[39m \u001b[34mdplyr\u001b[39m::\u001b[32mfilter()\u001b[39m masks \u001b[34mstats\u001b[39m::filter()\n",
            "\u001b[31m✖\u001b[39m \u001b[34mdplyr\u001b[39m::\u001b[32mlag()\u001b[39m    masks \u001b[34mstats\u001b[39m::lag()\n",
            "\u001b[36mℹ\u001b[39m Use the conflicted package (\u001b[3m\u001b[34m<http://conflicted.r-lib.org/>\u001b[39m\u001b[23m) to force all conflicts to become errors\n"
          ]
        },
        {
          "output_type": "display_data",
          "data": {
            "text/plain": [
              "plot without title"
            ],
            "image/png": "[encoded data removed]"
          },
          "metadata": {
            "image/png": {
              "width": 420,
              "height": 420
            }
          }
        }
      ]
    },
    {
      "cell_type": "markdown",
      "source": [
        "Дисперсионный анализ (ANOVA)"
      ],
      "metadata": {
        "id": "w5XxshoqayUm"
      }
    },
    {
      "cell_type": "code",
      "source": [
        "# Проведение ANOVA\n",
        "anova_result <- aov(value ~ therapy, data = tumor)\n",
        "summary(anova_result)\n"
      ],
      "metadata": {
        "colab": {
          "base_uri": "https://localhost:8080/",
          "height": 106
        },
        "id": "Vqv7Ac1Ua3gO",
        "outputId": "8e327f2f-a66f-4010-f32e-b6cf0916253f"
      },
      "execution_count": 9,
      "outputs": [
        {
          "output_type": "display_data",
          "data": {
            "text/plain": [
              "            Df   Sum Sq Mean Sq F value  Pr(>F)   \n",
              "therapy      2 10038199 5019099   5.555 0.00954 **\n",
              "Residuals   27 24397392  903607                   \n",
              "---\n",
              "Signif. codes:  0 ‘***’ 0.001 ‘**’ 0.01 ‘*’ 0.05 ‘.’ 0.1 ‘ ’ 1"
            ]
          },
          "metadata": {}
        }
      ]
    },
    {
      "cell_type": "markdown",
      "source": [
        "Результаты дисперсионного анализа (ANOVA) показывают следующее:\n",
        "\n",
        "- F-значение: 5.555, что указывает на степень различия между средними значениями групп.\n",
        "- P-значение (Pr(>F)): 0.00954, что меньше стандартного порога в 0.05, указывая на статистическую значимость различий между группами.\n",
        "\n",
        "Интерпретация результатов ANOVA:\n",
        "\n",
        "Результаты указывают на то, что существуют статистически значимые различия в размере опухолей между группами мышей, получавших разные противоопухолевые препараты и плацебо. Так как p-значение меньше 0.05, мы можем отвергнуть нулевую гипотезу о том, что нет различий в эффективности трех исследуемых методов терапии в отношении размера опухоли.\n",
        "\n",
        "Это означает, что хотя бы один из препаратов показывает статистически значимое отличие в эффекте по сравнению с остальными группами. Однако, ANOVA не показывает, между какими именно группами существуют различия. Для определения этого необходимо провести попарные сравнения.\n",
        "\n"
      ],
      "metadata": {
        "id": "pAD5y9G4btzV"
      }
    },
    {
      "cell_type": "markdown",
      "source": [
        "Попарные сравнения с использованием критерия Тьюки\n"
      ],
      "metadata": {
        "id": "BhG3RdKzbDTo"
      }
    },
    {
      "cell_type": "code",
      "source": [
        "# Попарные сравнения с использованием критерия Тьюки\n",
        "tukey_result <- TukeyHSD(anova_result)\n",
        "tukey_result\n",
        "\n"
      ],
      "metadata": {
        "colab": {
          "base_uri": "https://localhost:8080/",
          "height": 196
        },
        "id": "Tg3TUfdhbHNe",
        "outputId": "6ac3975b-c200-4241-fed1-16f831dbe50c"
      },
      "execution_count": 10,
      "outputs": [
        {
          "output_type": "display_data",
          "data": {
            "text/plain": [
              "  Tukey multiple comparisons of means\n",
              "    95% family-wise confidence level\n",
              "\n",
              "Fit: aov(formula = value ~ therapy, data = tumor)\n",
              "\n",
              "$therapy\n",
              "          diff       lwr        upr     p adj\n",
              "A-0 -1066.1727 -2120.206  -12.13892 0.0470127\n",
              "B-0 -1341.2860 -2395.320 -287.25225 0.0105799\n",
              "B-A  -275.1133 -1329.147  778.92041 0.7955378\n"
            ]
          },
          "metadata": {}
        }
      ]
    },
    {
      "cell_type": "markdown",
      "source": [
        "Результаты попарных сравнений с использованием критерия Тьюки для трех групп (плацебо (0), препарат A и препарат B) по размеру опухоли представляют следующее:\n",
        "\n",
        "а) Сравнение препарата A и плацебо (A-0):\n",
        "\n",
        "- Разница в средних: -1066.1727\n",
        "- 95% ДИ (доверительный интервал): от -2120.206 до -12.13892\n",
        "- P-значение: 0.0470127\n",
        "\n",
        "б) Сравнение препарата B и плацебо (B-0):\n",
        "\n",
        "- Разница в средних: -1341.2860\n",
        "- 95% ДИ: от -2395.320 до -287.25225\n",
        "- P-значение: 0.0105799\n",
        "\n",
        "в) Сравнение препарата B и препарата A (B-A):\n",
        "\n",
        "- Разница в средних: -275.1133\n",
        "- 95% ДИ: от -1329.147 до 778.92041\n",
        "- P-значение: 0.7955378\n",
        "\n",
        "Интерпретация результатов:\n",
        "\n",
        "- Препарат A против Плацебо: Размер опухолей в группе, получавшей препарат A, статистически значимо меньше, чем в группе плацебо (p = 0.047). Разница в средних значима, но доверительный интервал едва не касается нуля, что указывает на граничную значимость.\n",
        "- Препарат B против Плацебо: Размер опухолей в группе, получавшей препарат B, статистически значимо меньше, чем в группе плацебо (p = 0.0106), что указывает на более выраженный эффект препарата B по сравнению с плацебо.\n",
        "- Препарат B против Препарата A: Статистически значимой разницы между эффективностью препаратов A и B обнаружено не было (p = 0.7955), что говорит о том, что между этими препаратами нет значимого различия в воздействии на размер опухоли.\n",
        "\n",
        "Заключение:\n",
        "\n",
        "Оба препарата (A и B) показали статистически значимое уменьшение размера опухолей по сравнению с плацебо, при этом препарат B демонстрирует чуть большую эффективность по сравнению с препаратом A, хотя различие между препаратами A и B не является статистически значимым. Это означает, что оба препарата могут считаться эффективными в борьбе с опухолями по сравнению с плацебо, но дополнительные исследования могут потребоваться для более точного определения различий в их эффективности.\n",
        "\n",
        "\n",
        "\n",
        "\n",
        "\n",
        "\n"
      ],
      "metadata": {
        "id": "IakefhIgdqYN"
      }
    }
  ]
}